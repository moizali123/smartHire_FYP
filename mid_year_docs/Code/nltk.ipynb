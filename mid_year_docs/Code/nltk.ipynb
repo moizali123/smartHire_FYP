{
 "cells": [
  {
   "cell_type": "code",
   "execution_count": 1,
   "id": "c3ff8dea",
   "metadata": {},
   "outputs": [
    {
     "name": "stdout",
     "output_type": "stream",
     "text": [
      "Requirement already satisfied: nltk in c:\\users\\550\\anaconda3\\lib\\site-packages (3.6.1)Note: you may need to restart the kernel to use updated packages.\n",
      "Requirement already satisfied: regex in c:\\users\\550\\anaconda3\\lib\\site-packages (from nltk) (2021.4.4)\n",
      "Requirement already satisfied: tqdm in c:\\users\\550\\anaconda3\\lib\\site-packages (from nltk) (4.59.0)\n",
      "Requirement already satisfied: click in c:\\users\\550\\anaconda3\\lib\\site-packages (from nltk) (7.1.2)\n",
      "Requirement already satisfied: joblib in c:\\users\\550\\anaconda3\\lib\\site-packages (from nltk) (1.0.1)\n",
      "\n"
     ]
    }
   ],
   "source": [
    "pip install nltk"
   ]
  },
  {
   "cell_type": "code",
   "execution_count": 2,
   "id": "0c56cb01",
   "metadata": {},
   "outputs": [],
   "source": [
    "import nltk"
   ]
  },
  {
   "cell_type": "code",
   "execution_count": 5,
   "id": "f739abf1",
   "metadata": {},
   "outputs": [
    {
     "name": "stdout",
     "output_type": "stream",
     "text": [
      "showing info https://raw.githubusercontent.com/nltk/nltk_data/gh-pages/index.xml\n"
     ]
    },
    {
     "data": {
      "text/plain": [
       "True"
      ]
     },
     "execution_count": 5,
     "metadata": {},
     "output_type": "execute_result"
    }
   ],
   "source": [
    "nltk.download()"
   ]
  },
  {
   "cell_type": "code",
   "execution_count": 7,
   "id": "e7eb4341",
   "metadata": {},
   "outputs": [],
   "source": [
    "text = \"I code daily for both work and my personal project. My last project for work was to build a website, and for personal use I’m currently designing a video game.\""
   ]
  },
  {
   "cell_type": "code",
   "execution_count": 8,
   "id": "83d15931",
   "metadata": {},
   "outputs": [
    {
     "name": "stdout",
     "output_type": "stream",
     "text": [
      "['I', 'code', 'daily', 'for', 'both', 'work', 'and', 'my', 'personal', 'project', '.', 'My', 'last', 'project', 'for', 'work', 'was', 'to', 'build', 'a', 'website', ',', 'and', 'for', 'personal', 'use', 'I', '’', 'm', 'currently', 'designing', 'a', 'video', 'game', '.']\n"
     ]
    }
   ],
   "source": [
    "from nltk.tokenize import word_tokenize\n",
    "print(word_tokenize(text))"
   ]
  },
  {
   "cell_type": "code",
   "execution_count": 9,
   "id": "59b873ae",
   "metadata": {},
   "outputs": [
    {
     "name": "stdout",
     "output_type": "stream",
     "text": [
      "['I code daily for both work and my personal project.', 'My last project for work was to build a website, and for personal use I’m currently designing a video game.']\n"
     ]
    }
   ],
   "source": [
    "from nltk.tokenize import sent_tokenize\n",
    "print(sent_tokenize(text))"
   ]
  },
  {
   "cell_type": "code",
   "execution_count": 11,
   "id": "dc8706d8",
   "metadata": {},
   "outputs": [
    {
     "name": "stdout",
     "output_type": "stream",
     "text": [
      "[('for', 3), ('I', 2), ('work', 2)]\n"
     ]
    }
   ],
   "source": [
    "from nltk.tokenize import word_tokenize\n",
    "word_tokenized = word_tokenize(text)\n",
    "\n",
    "from nltk.probability import FreqDist\n",
    "fd = FreqDist(word_tokenized)\n",
    "print(fd.most_common(3))"
   ]
  },
  {
   "cell_type": "code",
   "execution_count": 12,
   "id": "67bf9b29",
   "metadata": {},
   "outputs": [
    {
     "name": "stdout",
     "output_type": "stream",
     "text": [
      "Requirement already satisfied: matplotlib in c:\\users\\550\\anaconda3\\lib\\site-packages (3.3.4)Note: you may need to restart the kernel to use updated packages.\n",
      "\n",
      "Requirement already satisfied: python-dateutil>=2.1 in c:\\users\\550\\anaconda3\\lib\\site-packages (from matplotlib) (2.8.1)\n",
      "Requirement already satisfied: cycler>=0.10 in c:\\users\\550\\anaconda3\\lib\\site-packages (from matplotlib) (0.10.0)\n",
      "Requirement already satisfied: kiwisolver>=1.0.1 in c:\\users\\550\\anaconda3\\lib\\site-packages (from matplotlib) (1.3.1)\n",
      "Requirement already satisfied: numpy>=1.15 in c:\\users\\550\\anaconda3\\lib\\site-packages (from matplotlib) (1.20.1)\n",
      "Requirement already satisfied: pillow>=6.2.0 in c:\\users\\550\\anaconda3\\lib\\site-packages (from matplotlib) (8.2.0)\n",
      "Requirement already satisfied: pyparsing!=2.0.4,!=2.1.2,!=2.1.6,>=2.0.3 in c:\\users\\550\\anaconda3\\lib\\site-packages (from matplotlib) (2.4.7)\n",
      "Requirement already satisfied: six in c:\\users\\550\\anaconda3\\lib\\site-packages (from cycler>=0.10->matplotlib) (1.15.0)\n"
     ]
    }
   ],
   "source": [
    "pip install matplotlib"
   ]
  },
  {
   "cell_type": "code",
   "execution_count": 15,
   "id": "020c3ea2",
   "metadata": {},
   "outputs": [],
   "source": [
    "import matplotlib as plt"
   ]
  },
  {
   "cell_type": "code",
   "execution_count": 19,
   "id": "22fd3c31",
   "metadata": {},
   "outputs": [
    {
     "data": {
      "image/png": "[encoded data removed]",
      "text/plain": [
       "<Figure size 432x288 with 1 Axes>"
      ]
     },
     "metadata": {
      "needs_background": "light"
     },
     "output_type": "display_data"
    },
    {
     "data": {
      "text/plain": [
       "<AxesSubplot:xlabel='Samples', ylabel='Counts'>"
      ]
     },
     "execution_count": 19,
     "metadata": {},
     "output_type": "execute_result"
    }
   ],
   "source": [
    "fd.plot(20,cumulative = False)\n"
   ]
  },
  {
   "cell_type": "code",
   "execution_count": 20,
   "id": "ee9fc71e",
   "metadata": {},
   "outputs": [
    {
     "name": "stdout",
     "output_type": "stream",
     "text": [
      "showing info https://raw.githubusercontent.com/nltk/nltk_data/gh-pages/index.xml\n"
     ]
    },
    {
     "data": {
      "text/plain": [
       "True"
      ]
     },
     "execution_count": 20,
     "metadata": {},
     "output_type": "execute_result"
    }
   ],
   "source": [
    "nltk.download()"
   ]
  },
  {
   "cell_type": "code",
   "execution_count": 22,
   "id": "6040081d",
   "metadata": {},
   "outputs": [
    {
     "name": "stdout",
     "output_type": "stream",
     "text": [
      "{\"isn't\", 'herself', \"you're\", \"it's\", \"couldn't\", 'most', 'it', 'm', 'hadn', 'any', 'who', 'these', 'have', 'between', 'doing', 'll', \"needn't\", 'just', 'during', 'from', 'with', 'isn', 'had', 'wasn', 'out', 'be', \"that'll\", 'wouldn', 'for', 'so', 'aren', 'after', 'and', 'ain', 'myself', 'because', 'very', 'down', 'mightn', 'while', 'shan', \"don't\", 'by', 'they', 'is', 'against', 'why', 'or', 'do', 'didn', 'him', 'a', 'theirs', 'off', 'yourselves', \"she's\", 'o', 'whom', 've', \"didn't\", 'until', 'shouldn', 'through', 'where', 'this', 'ma', 'd', 'of', 'having', 'been', 'me', 'mustn', 't', 'their', 'those', 'above', \"haven't\", 'an', 'our', 'themselves', 'did', \"you've\", 'can', 'the', 'other', 'himself', 'being', \"doesn't\", 'your', 'what', \"hasn't\", 'was', 'few', 'haven', 'some', \"mightn't\", 'over', 'then', \"hadn't\", \"you'll\", 'under', 'more', 'needn', 'each', 'no', 'such', \"shouldn't\", 's', 'before', 'all', 'has', 'once', 'hasn', 'further', 'now', 'its', \"shan't\", 'hers', 'his', 'both', 'my', 'up', 'own', 'only', 'in', 'won', 'not', 'ours', 'he', \"should've\", 'she', 'yourself', 'doesn', 'you', 'we', 'nor', 'about', 're', 'below', 'on', 'but', 'to', 'how', 'couldn', 'y', \"wouldn't\", 'when', 'does', 'into', 'should', 'if', 'at', 'her', 'which', 'are', 'again', 'am', \"won't\", 'too', \"mustn't\", 'that', 'don', \"you'd\", 'than', 'itself', 'yours', 'as', 'will', \"weren't\", 'weren', 'them', \"aren't\", 'here', \"wasn't\", 'i', 'there', 'were', 'same', 'ourselves'}\n"
     ]
    }
   ],
   "source": [
    "from nltk.corpus import stopwords\n",
    "stop_words = set(stopwords.words('english'))\n",
    "print(stop_words)"
   ]
  },
  {
   "cell_type": "code",
   "execution_count": 23,
   "id": "a691910d",
   "metadata": {},
   "outputs": [
    {
     "name": "stdout",
     "output_type": "stream",
     "text": [
      "['I', 'code', 'daily', 'work', 'personal', 'project', '.', 'My', 'last', 'project', 'work', 'build', 'website', ',', 'personal', 'use', 'I', '’', 'currently', 'designing', 'video', 'game', '.']\n"
     ]
    }
   ],
   "source": [
    "without_stop_words = []\n",
    "for word in word_tokenized:\n",
    "    if word not in stop_words:\n",
    "        without_stop_words.append(word)\n",
    "print(without_stop_words)"
   ]
  },
  {
   "cell_type": "code",
   "execution_count": 24,
   "id": "f220b114",
   "metadata": {},
   "outputs": [
    {
     "name": "stdout",
     "output_type": "stream",
     "text": [
      "[('for', 3), ('I', 2), ('work', 2)]\n"
     ]
    }
   ],
   "source": [
    "from nltk.probability import FreqDist\n",
    "fd = FreqDist(word_tokenized)\n",
    "print(fd.most_common(3))"
   ]
  },
  {
   "cell_type": "code",
   "execution_count": 25,
   "id": "7ce8de49",
   "metadata": {},
   "outputs": [
    {
     "data": {
      "image/png": "[encoded data removed]",
      "text/plain": [
       "<Figure size 432x288 with 1 Axes>"
      ]
     },
     "metadata": {
      "needs_background": "light"
     },
     "output_type": "display_data"
    },
    {
     "data": {
      "text/plain": [
       "<AxesSubplot:xlabel='Samples', ylabel='Counts'>"
      ]
     },
     "execution_count": 25,
     "metadata": {},
     "output_type": "execute_result"
    }
   ],
   "source": [
    "fd.plot(20,cumulative = False)"
   ]
  },
  {
   "cell_type": "code",
   "execution_count": 26,
   "id": "87965d81",
   "metadata": {},
   "outputs": [
    {
     "name": "stdout",
     "output_type": "stream",
     "text": [
      "showing info https://raw.githubusercontent.com/nltk/nltk_data/gh-pages/index.xml\n"
     ]
    },
    {
     "data": {
      "text/plain": [
       "True"
      ]
     },
     "execution_count": 26,
     "metadata": {},
     "output_type": "execute_result"
    }
   ],
   "source": [
    "nltk.download()"
   ]
  },
  {
   "cell_type": "code",
   "execution_count": 27,
   "id": "68059dee",
   "metadata": {},
   "outputs": [],
   "source": [
    "from nltk.stem import PorterStemmer , WordNetLemmatizer"
   ]
  },
  {
   "cell_type": "code",
   "execution_count": 28,
   "id": "0e27f66a",
   "metadata": {},
   "outputs": [],
   "source": [
    "lemmatizer = WordNetLemmatizer()\n",
    "stemmer = PorterStemmer()"
   ]
  },
  {
   "cell_type": "code",
   "execution_count": 32,
   "id": "80718602",
   "metadata": {},
   "outputs": [
    {
     "name": "stdout",
     "output_type": "stream",
     "text": [
      "I i I\n",
      "code code code\n",
      "daily daili daily\n",
      "work work work\n",
      "personal person personal\n",
      "project project project\n",
      ". . .\n",
      "My my My\n",
      "last last last\n",
      "project project project\n",
      "work work work\n",
      "build build build\n",
      "website websit website\n",
      ", , ,\n",
      "personal person personal\n",
      "use use use\n",
      "I i I\n",
      "’ ’ ’\n",
      "currently current currently\n",
      "designing design design\n",
      "video video video\n",
      "game game game\n",
      ". . .\n"
     ]
    }
   ],
   "source": [
    "for word in without_stop_words:\n",
    "    print(word , stemmer.stem(word) , lemmatizer.lemmatize(word , \"v\"))"
   ]
  },
  {
   "cell_type": "code",
   "execution_count": 33,
   "id": "43aa6d40",
   "metadata": {},
   "outputs": [
    {
     "name": "stdout",
     "output_type": "stream",
     "text": [
      "showing info https://raw.githubusercontent.com/nltk/nltk_data/gh-pages/index.xml\n"
     ]
    },
    {
     "data": {
      "text/plain": [
       "True"
      ]
     },
     "execution_count": 33,
     "metadata": {},
     "output_type": "execute_result"
    }
   ],
   "source": [
    "nltk.download()"
   ]
  },
  {
   "cell_type": "code",
   "execution_count": 34,
   "id": "34e711e2",
   "metadata": {},
   "outputs": [],
   "source": [
    "from nltk.sentiment import SentimentIntensityAnalyzer"
   ]
  },
  {
   "cell_type": "code",
   "execution_count": 35,
   "id": "51c8c62c",
   "metadata": {},
   "outputs": [],
   "source": [
    "sia = SentimentIntensityAnalyzer()"
   ]
  },
  {
   "cell_type": "code",
   "execution_count": 37,
   "id": "aef3195c",
   "metadata": {},
   "outputs": [
    {
     "name": "stdout",
     "output_type": "stream",
     "text": [
      "{'neg': 0.0, 'neu': 1.0, 'pos': 0.0, 'compound': 0.0}\n"
     ]
    }
   ],
   "source": [
    "print(sia.polarity_scores(text))"
   ]
  },
  {
   "cell_type": "code",
   "execution_count": 38,
   "id": "ee249bbc",
   "metadata": {},
   "outputs": [],
   "source": [
    "from nltk.corpus import wordnet"
   ]
  },
  {
   "cell_type": "code",
   "execution_count": 43,
   "id": "a70feb80",
   "metadata": {},
   "outputs": [
    {
     "name": "stdout",
     "output_type": "stream",
     "text": [
      "['code', 'codification', 'code', 'code', 'computer_code', 'code', 'code', 'encipher', 'cipher', 'cypher', 'encrypt', 'inscribe', 'write_in_code']\n"
     ]
    }
   ],
   "source": [
    "synonyms = []\n",
    "for syn in wordnet.synsets(without_stop_words[1]):\n",
    "    for lemma in syn.lemmas():\n",
    "        synonyms.append(lemma.name())\n",
    "print(synonyms)"
   ]
  },
  {
   "cell_type": "code",
   "execution_count": 46,
   "id": "ec36ba18",
   "metadata": {},
   "outputs": [
    {
     "name": "stdout",
     "output_type": "stream",
     "text": [
      "['idle', 'malfunction']\n"
     ]
    }
   ],
   "source": [
    "antonyms = []\n",
    "for syn in wordnet.synsets(without_stop_words[3]):\n",
    "    for lemma in syn.lemmas():\n",
    "        if lemma.antonyms():\n",
    "            antonyms.append(lemma.antonyms()[0].name())\n",
    "print(antonyms)"
   ]
  },
  {
   "cell_type": "code",
   "execution_count": null,
   "id": "098c80a6",
   "metadata": {},
   "outputs": [],
   "source": []
  }
 ],
 "metadata": {
  "kernelspec": {
   "display_name": "Python 3",
   "language": "python",
   "name": "python3"
  },
  "language_info": {
   "codemirror_mode": {
    "name": "ipython",
    "version": 3
   },
   "file_extension": ".py",
   "mimetype": "text/x-python",
   "name": "python",
   "nbconvert_exporter": "python",
   "pygments_lexer": "ipython3",
   "version": "3.9.1"
  },
  "vscode": {
   "interpreter": {
    "hash": "6816f00e523704cc3341337f5a9a1fa747c1dc441c321d71b6466bef39f207d0"
   }
  }
 },
 "nbformat": 4,
 "nbformat_minor": 5
}
